{
 "cells": [
  {
   "cell_type": "code",
   "execution_count": 1,
   "id": "e36e4c8f",
   "metadata": {},
   "outputs": [],
   "source": [
    "import os\n",
    "import json\n",
    "from typing import TypedDict, Dict"
   ]
  },
  {
   "cell_type": "code",
   "execution_count": 2,
   "id": "edd3251d",
   "metadata": {},
   "outputs": [],
   "source": [
    "from dotenv import load_dotenv"
   ]
  },
  {
   "cell_type": "code",
   "execution_count": 3,
   "id": "bcdf6502",
   "metadata": {},
   "outputs": [],
   "source": [
    "from langchain.chat_models import init_chat_model\n",
    "from langchain_core.tools import tool"
   ]
  },
  {
   "cell_type": "code",
   "execution_count": 4,
   "id": "a08fa7fa",
   "metadata": {},
   "outputs": [],
   "source": [
    "from langgraph.prebuilt import ToolNode\n",
    "from langgraph.graph import StateGraph, START, END"
   ]
  },
  {
   "cell_type": "code",
   "execution_count": 5,
   "id": "5caed8b4",
   "metadata": {},
   "outputs": [],
   "source": [
    "from langchain_ollama import ChatOllama\n",
    "\n",
    "llm = ChatOllama(\n",
    "    model=\"deepseek-r1:1.5b\",\n",
    "    temperature=0,\n",
    "    # other params...\n",
    ")"
   ]
  },
  {
   "cell_type": "code",
   "execution_count": 6,
   "id": "876cb4b2",
   "metadata": {},
   "outputs": [],
   "source": [
    "class AgentState(TypedDict):\n",
    "    message: str\n",
    "\n",
    "# def greeting_node(state: AgentState) -> AgentState:\n",
    "#     \"\"\"Function to greet the user and modify the state.\"\"\"\n",
    "    \n",
    "#     state[\"message\"] = \"Hello! \"+ state[\"message\"] + \", How can I assist you today?\"\n",
    "#     return state\n",
    "\n",
    "def greeting_node(state: AgentState) -> AgentState:\n",
    "    \"\"\"Function to greet any user using LLM.\"\"\"\n",
    "    user_message = state['message']\n",
    "    \n",
    "    # Extract the actual user message from context if present\n",
    "    if \"User message:\" in user_message:\n",
    "        actual_message = user_message.split(\"User message:\")[-1].strip()\n",
    "    else:\n",
    "        actual_message = user_message\n",
    "    \n",
    "    # Create a prompt that works for any user introduction\n",
    "    prompt = f\"\"\"\n",
    "    A user just said: \"{actual_message}\"\n",
    "    \n",
    "    Generate a short, friendly greeting that:\n",
    "    1. Acknowledges their name if they mentioned it\n",
    "    2. Asks how you can help them\n",
    "    3. Is personalized but professional\n",
    "    \n",
    "    Examples:\n",
    "    - If they say \"hi I'm John\": \"Hello John! How can I help you today?\"\n",
    "    - If they say \"my name is Sarah\": \"Nice to meet you Sarah! How may I assist you?\"\n",
    "    \n",
    "    Only return the greeting, no quotes or explanations.\n",
    "    \"\"\"\n",
    "    \n",
    "    response = llm.invoke(prompt)\n",
    "    \n",
    "    # Clean up the response\n",
    "    content = response.content\n",
    "    if '</think>' in content:\n",
    "        content = content.split('</think>')[-1].strip()\n",
    "    \n",
    "    if content.startswith('\"') and content.endswith('\"'):\n",
    "        content = content[1:-1]\n",
    "    \n",
    "    state[\"message\"] = content.strip()\n",
    "    return state"
   ]
  },
  {
   "cell_type": "code",
   "execution_count": 7,
   "id": "4946f038",
   "metadata": {},
   "outputs": [],
   "source": [
    "graph = StateGraph(AgentState)\n",
    "\n",
    "graph.add_node(\"greeter\", greeting_node)\n",
    "\n",
    "graph.set_entry_point(\"greeter\")\n",
    "graph.set_finish_point(\"greeter\")\n",
    "\n",
    "app = graph.compile()\n",
    "\n"
   ]
  },
  {
   "cell_type": "code",
   "execution_count": 8,
   "id": "bb374a56",
   "metadata": {},
   "outputs": [],
   "source": [
    "context = \"You are a helpful assistant. You can answer questions, provide information, and assist with various tasks. Your goal is to be helpful and informative. no emojis, no exclamation marks, no thinking tags, no explanations, just the answer. If you don't know the answer, say 'I don't know'.\"\n",
    "message_with_context = f\"Context: {context}\\nUser message: Hey, this is Dio\"\n"
   ]
  },
  {
   "cell_type": "code",
   "execution_count": null,
   "id": "9afdb7cc",
   "metadata": {},
   "outputs": [],
   "source": [
    "result = app.invoke({\"message\": message_with_context})"
   ]
  },
  {
   "cell_type": "code",
   "execution_count": null,
   "id": "1e3ba5a3",
   "metadata": {},
   "outputs": [
    {
     "data": {
      "text/plain": [
       "'Hello [Name]! How can I assist you today?'"
      ]
     },
     "execution_count": 272,
     "metadata": {},
     "output_type": "execute_result"
    }
   ],
   "source": [
    "result[\"message\"]"
   ]
  }
 ],
 "metadata": {
  "kernelspec": {
   "display_name": "venv",
   "language": "python",
   "name": "python3"
  },
  "language_info": {
   "codemirror_mode": {
    "name": "ipython",
    "version": 3
   },
   "file_extension": ".py",
   "mimetype": "text/x-python",
   "name": "python",
   "nbconvert_exporter": "python",
   "pygments_lexer": "ipython3",
   "version": "3.12.8"
  }
 },
 "nbformat": 4,
 "nbformat_minor": 5
}
